{
 "cells": [
  {
   "cell_type": "code",
   "execution_count": 2,
   "id": "5b40e09d-a92e-4788-8f1f-d92f67984cbd",
   "metadata": {
    "tags": []
   },
   "outputs": [
    {
     "name": "stdout",
     "output_type": "stream",
     "text": [
      "The Minimum Cost of Round Trip is: \n",
      "80\n"
     ]
    }
   ],
   "source": [
    "from sys import maxsize \n",
    "from itertools import permutations\n",
    "V = 4\n",
    "def travellingSalesmanProblem(graph, s): \n",
    "    vertex = [] \n",
    "    for i in range(V): \n",
    "        if i != s: \n",
    "            vertex.append(i) \n",
    "    min_path = maxsize \n",
    "    next_permutation=permutations(vertex)\n",
    "    for i in next_permutation:\n",
    " \n",
    "        current_pathweight = 0\n",
    " \n",
    "        k = s \n",
    "        for j in i: \n",
    "            current_pathweight += graph[k][j] \n",
    "            k = j \n",
    "        current_pathweight += graph[k][s] \n",
    " \n",
    "        min_path = min(min_path, current_pathweight) \n",
    "         \n",
    "    return min_path \n",
    " \n",
    "if __name__ == \"__main__\": \n",
    " \n",
    "    graph = [[0, 10, 15, 20], [10, 0, 35, 25], \n",
    "            [15, 35, 0, 30], [20, 25, 30, 0]] \n",
    "    s = 0\n",
    "    print(\"The Minimum Cost of Round Trip is: \")\n",
    "    print(travellingSalesmanProblem(graph, s))"
   ]
  },
  {
   "cell_type": "code",
   "execution_count": null,
   "id": "8f155847-f8c0-4c14-8a9e-a1ff9f463f0f",
   "metadata": {},
   "outputs": [],
   "source": []
  }
 ],
 "metadata": {
  "kernelspec": {
   "display_name": "Python 3 (ipykernel)",
   "language": "python",
   "name": "python3"
  },
  "language_info": {
   "codemirror_mode": {
    "name": "ipython",
    "version": 3
   },
   "file_extension": ".py",
   "mimetype": "text/x-python",
   "name": "python",
   "nbconvert_exporter": "python",
   "pygments_lexer": "ipython3",
   "version": "3.11.2"
  }
 },
 "nbformat": 4,
 "nbformat_minor": 5
}
