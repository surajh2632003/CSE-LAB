{
 "cells": [
  {
   "cell_type": "code",
   "execution_count": null,
   "id": "57513f3f-a8ed-445b-ad68-38b29b3692af",
   "metadata": {
    "tags": []
   },
   "outputs": [
    {
     "name": "stdin",
     "output_type": "stream",
     "text": [
      " 70\n",
      " 65\n"
     ]
    },
    {
     "name": "stdout",
     "output_type": "stream",
     "text": [
      "Heating turned on\n"
     ]
    },
    {
     "name": "stdin",
     "output_type": "stream",
     "text": [
      " 70\n"
     ]
    },
    {
     "name": "stdout",
     "output_type": "stream",
     "text": [
      "Temperature at target level, no action needed\n"
     ]
    },
    {
     "name": "stdin",
     "output_type": "stream",
     "text": [
      " 78\n"
     ]
    },
    {
     "name": "stdout",
     "output_type": "stream",
     "text": [
      "Cooling turned on\n"
     ]
    }
   ],
   "source": [
    "class Thermostat:\n",
    "    def __init__(self, target_temperature):\n",
    "        self.target_temperature = target_temperature\n",
    "        self.current_temperature = 0\n",
    "        self.heating = False\n",
    "        self.cooling = False\n",
    "\n",
    "    def update_temperature(self, new_temperature):\n",
    "        self.current_temperature = new_temperature\n",
    "        if self.current_temperature < self.target_temperature:\n",
    "            self.heating = True\n",
    "            self.cooling = False\n",
    "            print(\"Heating turned on\")\n",
    "        elif self.current_temperature > self.target_temperature:\n",
    "            self.heating = False\n",
    "            self.cooling = True\n",
    "            print(\"Cooling turned on\")\n",
    "        else:\n",
    "            self.heating = False\n",
    "            self.cooling = False\n",
    "            print(\"Temperature at target level, no action needed\")\n",
    "\n",
    "inti=int(input())\n",
    "\n",
    "thermostat = Thermostat(inti)  \n",
    "\n",
    "while(1):\n",
    "    curr=int(input())\n",
    "    thermostat.update_temperature(curr) \n"
   ]
  },
  {
   "cell_type": "code",
   "execution_count": null,
   "id": "0c778bb0-ad83-4bab-afe9-9d4b5545a769",
   "metadata": {},
   "outputs": [],
   "source": []
  }
 ],
 "metadata": {
  "kernelspec": {
   "display_name": "Python 3 (ipykernel)",
   "language": "python",
   "name": "python3"
  },
  "language_info": {
   "codemirror_mode": {
    "name": "ipython",
    "version": 3
   },
   "file_extension": ".py",
   "mimetype": "text/x-python",
   "name": "python",
   "nbconvert_exporter": "python",
   "pygments_lexer": "ipython3",
   "version": "3.11.2"
  }
 },
 "nbformat": 4,
 "nbformat_minor": 5
}
